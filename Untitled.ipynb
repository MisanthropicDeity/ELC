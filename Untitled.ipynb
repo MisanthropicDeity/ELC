{
  "nbformat": 4,
  "nbformat_minor": 0,
  "metadata": {
    "colab": {
      "name": "Untitled",
      "provenance": [],
      "collapsed_sections": [],
      "authorship_tag": "ABX9TyOuAmuCfexX5pNH1Bv3nWVF",
      "include_colab_link": true
    },
    "kernelspec": {
      "display_name": "Python 3",
      "name": "python3"
    }
  },
  "cells": [
    {
      "cell_type": "markdown",
      "metadata": {
        "id": "view-in-github",
        "colab_type": "text"
      },
      "source": [
        "<a href=\"https://colab.research.google.com/github/MisanthropicDeity/ELC/blob/master/Untitled.ipynb\" target=\"_parent\"><img src=\"https://colab.research.google.com/assets/colab-badge.svg\" alt=\"Open In Colab\"/></a>"
      ]
    },
    {
      "cell_type": "code",
      "metadata": {
        "colab": {
          "base_uri": "https://localhost:8080/"
        },
        "id": "jHV5QpQtNfCU",
        "outputId": "2e49df80-6097-49b4-afde-870776f5ee85"
      },
      "source": [
        "!pip install tensorflow_hub\n",
        "!pip install transformers"
      ],
      "execution_count": 1,
      "outputs": [
        {
          "output_type": "stream",
          "text": [
            "Requirement already satisfied: tensorflow_hub in /usr/local/lib/python3.6/dist-packages (0.10.0)\n",
            "Requirement already satisfied: protobuf>=3.8.0 in /usr/local/lib/python3.6/dist-packages (from tensorflow_hub) (3.12.4)\n",
            "Requirement already satisfied: numpy>=1.12.0 in /usr/local/lib/python3.6/dist-packages (from tensorflow_hub) (1.19.4)\n",
            "Requirement already satisfied: six>=1.9 in /usr/local/lib/python3.6/dist-packages (from protobuf>=3.8.0->tensorflow_hub) (1.15.0)\n",
            "Requirement already satisfied: setuptools in /usr/local/lib/python3.6/dist-packages (from protobuf>=3.8.0->tensorflow_hub) (50.3.2)\n",
            "Collecting transformers\n",
            "\u001b[?25l  Downloading https://files.pythonhosted.org/packages/50/0c/7d5950fcd80b029be0a8891727ba21e0cd27692c407c51261c3c921f6da3/transformers-4.1.1-py3-none-any.whl (1.5MB)\n",
            "\u001b[K     |████████████████████████████████| 1.5MB 5.7MB/s \n",
            "\u001b[?25hRequirement already satisfied: tqdm>=4.27 in /usr/local/lib/python3.6/dist-packages (from transformers) (4.41.1)\n",
            "Requirement already satisfied: regex!=2019.12.17 in /usr/local/lib/python3.6/dist-packages (from transformers) (2019.12.20)\n",
            "Requirement already satisfied: filelock in /usr/local/lib/python3.6/dist-packages (from transformers) (3.0.12)\n",
            "Collecting sacremoses\n",
            "\u001b[?25l  Downloading https://files.pythonhosted.org/packages/7d/34/09d19aff26edcc8eb2a01bed8e98f13a1537005d31e95233fd48216eed10/sacremoses-0.0.43.tar.gz (883kB)\n",
            "\u001b[K     |████████████████████████████████| 890kB 17.9MB/s \n",
            "\u001b[?25hRequirement already satisfied: dataclasses; python_version < \"3.7\" in /usr/local/lib/python3.6/dist-packages (from transformers) (0.8)\n",
            "Requirement already satisfied: numpy in /usr/local/lib/python3.6/dist-packages (from transformers) (1.19.4)\n",
            "Collecting tokenizers==0.9.4\n",
            "\u001b[?25l  Downloading https://files.pythonhosted.org/packages/0f/1c/e789a8b12e28be5bc1ce2156cf87cb522b379be9cadc7ad8091a4cc107c4/tokenizers-0.9.4-cp36-cp36m-manylinux2010_x86_64.whl (2.9MB)\n",
            "\u001b[K     |████████████████████████████████| 2.9MB 14.3MB/s \n",
            "\u001b[?25hRequirement already satisfied: packaging in /usr/local/lib/python3.6/dist-packages (from transformers) (20.8)\n",
            "Requirement already satisfied: requests in /usr/local/lib/python3.6/dist-packages (from transformers) (2.23.0)\n",
            "Requirement already satisfied: six in /usr/local/lib/python3.6/dist-packages (from sacremoses->transformers) (1.15.0)\n",
            "Requirement already satisfied: click in /usr/local/lib/python3.6/dist-packages (from sacremoses->transformers) (7.1.2)\n",
            "Requirement already satisfied: joblib in /usr/local/lib/python3.6/dist-packages (from sacremoses->transformers) (1.0.0)\n",
            "Requirement already satisfied: pyparsing>=2.0.2 in /usr/local/lib/python3.6/dist-packages (from packaging->transformers) (2.4.7)\n",
            "Requirement already satisfied: urllib3!=1.25.0,!=1.25.1,<1.26,>=1.21.1 in /usr/local/lib/python3.6/dist-packages (from requests->transformers) (1.24.3)\n",
            "Requirement already satisfied: idna<3,>=2.5 in /usr/local/lib/python3.6/dist-packages (from requests->transformers) (2.10)\n",
            "Requirement already satisfied: chardet<4,>=3.0.2 in /usr/local/lib/python3.6/dist-packages (from requests->transformers) (3.0.4)\n",
            "Requirement already satisfied: certifi>=2017.4.17 in /usr/local/lib/python3.6/dist-packages (from requests->transformers) (2020.12.5)\n",
            "Building wheels for collected packages: sacremoses\n",
            "  Building wheel for sacremoses (setup.py) ... \u001b[?25l\u001b[?25hdone\n",
            "  Created wheel for sacremoses: filename=sacremoses-0.0.43-cp36-none-any.whl size=893261 sha256=44a5c11677fb3c23650f1e614a079b82673556d2c615088f9f19495408ab1ed0\n",
            "  Stored in directory: /root/.cache/pip/wheels/29/3c/fd/7ce5c3f0666dab31a50123635e6fb5e19ceb42ce38d4e58f45\n",
            "Successfully built sacremoses\n",
            "Installing collected packages: sacremoses, tokenizers, transformers\n",
            "Successfully installed sacremoses-0.0.43 tokenizers-0.9.4 transformers-4.1.1\n"
          ],
          "name": "stdout"
        }
      ]
    },
    {
      "cell_type": "code",
      "metadata": {
        "id": "nQcYkJf-NmZ2"
      },
      "source": [
        "import tensorflow as tf\n",
        "import tensorflow_hub as hub\n",
        "from transformers import BertTokenizer, BertConfig"
      ],
      "execution_count": 2,
      "outputs": []
    },
    {
      "cell_type": "code",
      "metadata": {
        "id": "snmQtQ2YNgcM",
        "colab": {
          "base_uri": "https://localhost:8080/",
          "height": 163
        },
        "outputId": "50dc00f7-339f-462d-bbd0-08d3d106fe71"
      },
      "source": [
        "tokenizer = BertTokenizer.from_pretrained('bert-base-uncased')"
      ],
      "execution_count": 14,
      "outputs": [
        {
          "output_type": "error",
          "ename": "NameError",
          "evalue": "ignored",
          "traceback": [
            "\u001b[0;31m---------------------------------------------------------------------------\u001b[0m",
            "\u001b[0;31mNameError\u001b[0m                                 Traceback (most recent call last)",
            "\u001b[0;32m<ipython-input-14-5de25aa58696>\u001b[0m in \u001b[0;36m<module>\u001b[0;34m()\u001b[0m\n\u001b[0;32m----> 1\u001b[0;31m \u001b[0mtokenizer\u001b[0m \u001b[0;34m=\u001b[0m \u001b[0mBertTokenizer\u001b[0m\u001b[0;34m.\u001b[0m\u001b[0mfrom_pretrained\u001b[0m\u001b[0;34m(\u001b[0m\u001b[0;34m'bert-base-uncased'\u001b[0m\u001b[0;34m,\u001b[0m \u001b[0mmax_position_embeddings\u001b[0m\u001b[0;34m(\u001b[0m\u001b[0;36m1024\u001b[0m\u001b[0;34m)\u001b[0m\u001b[0;34m)\u001b[0m\u001b[0;34m\u001b[0m\u001b[0;34m\u001b[0m\u001b[0m\n\u001b[0m",
            "\u001b[0;31mNameError\u001b[0m: name 'max_position_embeddings' is not defined"
          ]
        }
      ]
    },
    {
      "cell_type": "code",
      "metadata": {
        "colab": {
          "base_uri": "https://localhost:8080/"
        },
        "id": "v5jDmvB1N4Bh",
        "outputId": "8ae8fd37-2ef2-4e28-f4dc-fabc063983fb"
      },
      "source": [
        "model = hub.load(\"https://tfhub.dev/see--/bert-uncased-tf2-qa/1\")"
      ],
      "execution_count": 4,
      "outputs": [
        {
          "output_type": "stream",
          "text": [
            "INFO:absl:resolver HttpCompressedFileResolver does not support the provided handle.\n",
            "INFO:absl:resolver GcsCompressedFileResolver does not support the provided handle.\n"
          ],
          "name": "stderr"
        }
      ]
    },
    {
      "cell_type": "code",
      "metadata": {
        "id": "lt1HKRil5P5i"
      },
      "source": [
        "model1"
      ],
      "execution_count": null,
      "outputs": []
    },
    {
      "cell_type": "code",
      "metadata": {
        "id": "HCC040S6OC9R"
      },
      "source": [
        "\n",
        "questions = [\n",
        "    'How long did it take to find the answer?',\n",
        "    'What\\'s the answer to the great question?',\n",
        "    'What\\'s the name of the computer?']\n",
        "paragraph = '''<p>The computer is named Deep Thought.</p>.\n",
        "               <p>After 46 million years of training it found the answer.</p>\n",
        "               <p>However, nobody was amazed. The answer was 42.</p>'''"
      ],
      "execution_count": null,
      "outputs": []
    },
    {
      "cell_type": "code",
      "metadata": {
        "colab": {
          "base_uri": "https://localhost:8080/"
        },
        "id": "fmzpSM_ygm_k",
        "outputId": "0f75d14a-167f-443c-ab7c-9cfe1558e857"
      },
      "source": [
        "df = pd.read_csv('https://github.com/deepset-ai/COVID-QA/blob/master/data/faqs/faq_covidbert.csv', error_bad_lines=False)\n",
        "print(df)"
      ],
      "execution_count": 5,
      "outputs": [
        {
          "output_type": "stream",
          "text": [
            "                                        <!DOCTYPE html>\n",
            "0                                      <html lang=\"en\">\n",
            "1                                                <head>\n",
            "2                                <meta charset=\"utf-8\">\n",
            "3       <link rel=\"dns-prefetch\" href=\"https://githu...\n",
            "4       <link rel=\"dns-prefetch\" href=\"https://avata...\n",
            "...                                                 ...\n",
            "3921    <div class=\"Popover-message Popover-message-...\n",
            "3922                                             </div>\n",
            "3923                                             </div>\n",
            "3924                                            </body>\n",
            "3925                                            </html>\n",
            "\n",
            "[3926 rows x 1 columns]\n"
          ],
          "name": "stdout"
        },
        {
          "output_type": "stream",
          "text": [
            "b'Skipping line 71: expected 1 fields, saw 2\\nSkipping line 90: expected 1 fields, saw 156\\nSkipping line 91: expected 1 fields, saw 2\\nSkipping line 106: expected 1 fields, saw 3\\nSkipping line 154: expected 1 fields, saw 3\\nSkipping line 166: expected 1 fields, saw 6\\nSkipping line 167: expected 1 fields, saw 3\\nSkipping line 191: expected 1 fields, saw 4\\nSkipping line 195: expected 1 fields, saw 2\\nSkipping line 197: expected 1 fields, saw 2\\nSkipping line 198: expected 1 fields, saw 2\\nSkipping line 199: expected 1 fields, saw 2\\nSkipping line 200: expected 1 fields, saw 2\\nSkipping line 201: expected 1 fields, saw 2\\nSkipping line 202: expected 1 fields, saw 2\\nSkipping line 203: expected 1 fields, saw 2\\nSkipping line 204: expected 1 fields, saw 2\\nSkipping line 205: expected 1 fields, saw 2\\nSkipping line 209: expected 1 fields, saw 2\\nSkipping line 210: expected 1 fields, saw 2\\nSkipping line 216: expected 1 fields, saw 2\\nSkipping line 219: expected 1 fields, saw 2\\nSkipping line 227: expected 1 fields, saw 4\\nSkipping line 233: expected 1 fields, saw 2\\nSkipping line 238: expected 1 fields, saw 2\\nSkipping line 239: expected 1 fields, saw 2\\nSkipping line 240: expected 1 fields, saw 2\\nSkipping line 241: expected 1 fields, saw 2\\nSkipping line 242: expected 1 fields, saw 2\\nSkipping line 247: expected 1 fields, saw 2\\nSkipping line 248: expected 1 fields, saw 2\\nSkipping line 249: expected 1 fields, saw 2\\nSkipping line 250: expected 1 fields, saw 2\\nSkipping line 257: expected 1 fields, saw 2\\nSkipping line 265: expected 1 fields, saw 4\\nSkipping line 270: expected 1 fields, saw 2\\nSkipping line 273: expected 1 fields, saw 2\\nSkipping line 274: expected 1 fields, saw 2\\nSkipping line 278: expected 1 fields, saw 2\\nSkipping line 279: expected 1 fields, saw 2\\nSkipping line 301: expected 1 fields, saw 2\\nSkipping line 439: expected 1 fields, saw 6\\nSkipping line 440: expected 1 fields, saw 3\\nSkipping line 445: expected 1 fields, saw 6\\nSkipping line 446: expected 1 fields, saw 3\\nSkipping line 533: expected 1 fields, saw 6\\nSkipping line 544: expected 1 fields, saw 6\\nSkipping line 557: expected 1 fields, saw 6\\nSkipping line 573: expected 1 fields, saw 3\\nSkipping line 581: expected 1 fields, saw 3\\nSkipping line 589: expected 1 fields, saw 3\\nSkipping line 597: expected 1 fields, saw 3\\nSkipping line 605: expected 1 fields, saw 3\\nSkipping line 613: expected 1 fields, saw 3\\nSkipping line 621: expected 1 fields, saw 3\\nSkipping line 728: expected 1 fields, saw 7\\nSkipping line 789: expected 1 fields, saw 2\\nSkipping line 792: expected 1 fields, saw 2\\nSkipping line 840: expected 1 fields, saw 3\\nSkipping line 841: expected 1 fields, saw 4\\nSkipping line 842: expected 1 fields, saw 3\\nSkipping line 843: expected 1 fields, saw 4\\nSkipping line 857: expected 1 fields, saw 2\\nSkipping line 858: expected 1 fields, saw 8\\nSkipping line 859: expected 1 fields, saw 2\\nSkipping line 860: expected 1 fields, saw 8\\nSkipping line 862: expected 1 fields, saw 2\\nSkipping line 877: expected 1 fields, saw 3\\nSkipping line 878: expected 1 fields, saw 6\\nSkipping line 880: expected 1 fields, saw 3\\nSkipping line 881: expected 1 fields, saw 6\\nSkipping line 897: expected 1 fields, saw 3\\nSkipping line 898: expected 1 fields, saw 3\\nSkipping line 913: expected 1 fields, saw 5\\nSkipping line 914: expected 1 fields, saw 5\\nSkipping line 929: expected 1 fields, saw 5\\nSkipping line 930: expected 1 fields, saw 2\\nSkipping line 932: expected 1 fields, saw 5\\nSkipping line 933: expected 1 fields, saw 2\\nSkipping line 950: expected 1 fields, saw 5\\nSkipping line 953: expected 1 fields, saw 2\\nSkipping line 957: expected 1 fields, saw 5\\nSkipping line 961: expected 1 fields, saw 2\\nSkipping line 979: expected 1 fields, saw 5\\nSkipping line 980: expected 1 fields, saw 5\\nSkipping line 995: expected 1 fields, saw 2\\nSkipping line 996: expected 1 fields, saw 3\\nSkipping line 997: expected 1 fields, saw 4\\nSkipping line 998: expected 1 fields, saw 5\\nSkipping line 1000: expected 1 fields, saw 3\\nSkipping line 1001: expected 1 fields, saw 4\\nSkipping line 1002: expected 1 fields, saw 5\\nSkipping line 1018: expected 1 fields, saw 6\\nSkipping line 1019: expected 1 fields, saw 6\\nSkipping line 1034: expected 1 fields, saw 2\\nSkipping line 1035: expected 1 fields, saw 2\\nSkipping line 1084: expected 1 fields, saw 2\\nSkipping line 1085: expected 1 fields, saw 2\\nSkipping line 1100: expected 1 fields, saw 3\\nSkipping line 1101: expected 1 fields, saw 3\\nSkipping line 1116: expected 1 fields, saw 6\\nSkipping line 1117: expected 1 fields, saw 6\\nSkipping line 1132: expected 1 fields, saw 9\\nSkipping line 1133: expected 1 fields, saw 9\\nSkipping line 1148: expected 1 fields, saw 2\\nSkipping line 1149: expected 1 fields, saw 2\\nSkipping line 1164: expected 1 fields, saw 5\\nSkipping line 1166: expected 1 fields, saw 5\\nSkipping line 1181: expected 1 fields, saw 3\\nSkipping line 1182: expected 1 fields, saw 3\\nSkipping line 1197: expected 1 fields, saw 10\\nSkipping line 1198: expected 1 fields, saw 10\\nSkipping line 1214: expected 1 fields, saw 3\\nSkipping line 1215: expected 1 fields, saw 2\\nSkipping line 1216: expected 1 fields, saw 3\\nSkipping line 1217: expected 1 fields, saw 2\\nSkipping line 1232: expected 1 fields, saw 3\\nSkipping line 1233: expected 1 fields, saw 6\\nSkipping line 1235: expected 1 fields, saw 3\\nSkipping line 1236: expected 1 fields, saw 6\\nSkipping line 1252: expected 1 fields, saw 3\\nSkipping line 1253: expected 1 fields, saw 3\\nSkipping line 1268: expected 1 fields, saw 5\\nSkipping line 1300: expected 1 fields, saw 3\\nSkipping line 1301: expected 1 fields, saw 4\\nSkipping line 1302: expected 1 fields, saw 12\\nSkipping line 1303: expected 1 fields, saw 5\\nSkipping line 1304: expected 1 fields, saw 5\\nSkipping line 1305: expected 1 fields, saw 5\\nSkipping line 1306: expected 1 fields, saw 13\\nSkipping line 1307: expected 1 fields, saw 10\\nSkipping line 1322: expected 1 fields, saw 7\\nSkipping line 1323: expected 1 fields, saw 8\\nSkipping line 1324: expected 1 fields, saw 2\\nSkipping line 1325: expected 1 fields, saw 2\\nSkipping line 1326: expected 1 fields, saw 7\\nSkipping line 1327: expected 1 fields, saw 8\\nSkipping line 1328: expected 1 fields, saw 2\\nSkipping line 1329: expected 1 fields, saw 2\\nSkipping line 1344: expected 1 fields, saw 13\\nSkipping line 1345: expected 1 fields, saw 13\\nSkipping line 1360: expected 1 fields, saw 6\\nSkipping line 1361: expected 1 fields, saw 3\\nSkipping line 1362: expected 1 fields, saw 4\\nSkipping line 1368: expected 1 fields, saw 6\\nSkipping line 1369: expected 1 fields, saw 3\\nSkipping line 1370: expected 1 fields, saw 4\\nSkipping line 1395: expected 1 fields, saw 2\\nSkipping line 1396: expected 1 fields, saw 2\\nSkipping line 1411: expected 1 fields, saw 8\\nSkipping line 1412: expected 1 fields, saw 8\\nSkipping line 1427: expected 1 fields, saw 2\\nSkipping line 1428: expected 1 fields, saw 2\\nSkipping line 1443: expected 1 fields, saw 11\\nSkipping line 1444: expected 1 fields, saw 11\\nSkipping line 1460: expected 1 fields, saw 10\\nSkipping line 1461: expected 1 fields, saw 10\\nSkipping line 1475: expected 1 fields, saw 4\\nSkipping line 1476: expected 1 fields, saw 4\\nSkipping line 1477: expected 1 fields, saw 4\\nSkipping line 1492: expected 1 fields, saw 3\\nSkipping line 1493: expected 1 fields, saw 4\\nSkipping line 1496: expected 1 fields, saw 2\\nSkipping line 1497: expected 1 fields, saw 2\\nSkipping line 1498: expected 1 fields, saw 2\\nSkipping line 1500: expected 1 fields, saw 3\\nSkipping line 1502: expected 1 fields, saw 2\\nSkipping line 1503: expected 1 fields, saw 2\\nSkipping line 1506: expected 1 fields, saw 3\\nSkipping line 1507: expected 1 fields, saw 4\\nSkipping line 1511: expected 1 fields, saw 2\\nSkipping line 1513: expected 1 fields, saw 2\\nSkipping line 1514: expected 1 fields, saw 2\\nSkipping line 1517: expected 1 fields, saw 3\\nSkipping line 1520: expected 1 fields, saw 2\\nSkipping line 1524: expected 1 fields, saw 2\\nSkipping line 1539: expected 1 fields, saw 3\\nSkipping line 1541: expected 1 fields, saw 3\\nSkipping line 1556: expected 1 fields, saw 3\\nSkipping line 1558: expected 1 fields, saw 3\\nSkipping line 1573: expected 1 fields, saw 4\\nSkipping line 1576: expected 1 fields, saw 4\\nSkipping line 1592: expected 1 fields, saw 3\\nSkipping line 1593: expected 1 fields, saw 3\\nSkipping line 1607: expected 1 fields, saw 2\\nSkipping line 1609: expected 1 fields, saw 3\\nSkipping line 1610: expected 1 fields, saw 6\\nSkipping line 1613: expected 1 fields, saw 11\\nSkipping line 1614: expected 1 fields, saw 4\\nSkipping line 1615: expected 1 fields, saw 2\\nSkipping line 1616: expected 1 fields, saw 2\\nSkipping line 1619: expected 1 fields, saw 3\\nSkipping line 1620: expected 1 fields, saw 6\\nSkipping line 1626: expected 1 fields, saw 11\\nSkipping line 1627: expected 1 fields, saw 4\\nSkipping line 1628: expected 1 fields, saw 2\\nSkipping line 1643: expected 1 fields, saw 2\\nSkipping line 1644: expected 1 fields, saw 2\\nSkipping line 1658: expected 1 fields, saw 2\\nSkipping line 1659: expected 1 fields, saw 2\\nSkipping line 1660: expected 1 fields, saw 2\\nSkipping line 1662: expected 1 fields, saw 4\\nSkipping line 1663: expected 1 fields, saw 5\\nSkipping line 1664: expected 1 fields, saw 2\\nSkipping line 1665: expected 1 fields, saw 2\\nSkipping line 1667: expected 1 fields, saw 2\\nSkipping line 1670: expected 1 fields, saw 4\\nSkipping line 1671: expected 1 fields, saw 5\\nSkipping line 1685: expected 1 fields, saw 5\\nSkipping line 1687: expected 1 fields, saw 5\\nSkipping line 1702: expected 1 fields, saw 2\\nSkipping line 1703: expected 1 fields, saw 3\\nSkipping line 1704: expected 1 fields, saw 2\\nSkipping line 1705: expected 1 fields, saw 3\\nSkipping line 1735: expected 1 fields, saw 2\\nSkipping line 1736: expected 1 fields, saw 3\\nSkipping line 1739: expected 1 fields, saw 4\\nSkipping line 1740: expected 1 fields, saw 9\\nSkipping line 1743: expected 1 fields, saw 2\\nSkipping line 1744: expected 1 fields, saw 3\\nSkipping line 1750: expected 1 fields, saw 4\\nSkipping line 1751: expected 1 fields, saw 9\\nSkipping line 1768: expected 1 fields, saw 2\\nSkipping line 1770: expected 1 fields, saw 4\\nSkipping line 1771: expected 1 fields, saw 2\\nSkipping line 1773: expected 1 fields, saw 6\\nSkipping line 1777: expected 1 fields, saw 2\\nSkipping line 1779: expected 1 fields, saw 4\\nSkipping line 1780: expected 1 fields, saw 2\\nSkipping line 1782: expected 1 fields, saw 6\\nSkipping line 1797: expected 1 fields, saw 2\\nSkipping line 1798: expected 1 fields, saw 2\\nSkipping line 1799: expected 1 fields, saw 2\\nSkipping line 1807: expected 1 fields, saw 3\\nSkipping line 1808: expected 1 fields, saw 3\\nSkipping line 1809: expected 1 fields, saw 3\\nSkipping line 1810: expected 1 fields, saw 2\\nSkipping line 1812: expected 1 fields, saw 2\\nSkipping line 1813: expected 1 fields, saw 2\\nSkipping line 1829: expected 1 fields, saw 3\\nSkipping line 1830: expected 1 fields, saw 3\\nSkipping line 1831: expected 1 fields, saw 3\\nSkipping line 1845: expected 1 fields, saw 3\\nSkipping line 1846: expected 1 fields, saw 2\\nSkipping line 1847: expected 1 fields, saw 2\\nSkipping line 1861: expected 1 fields, saw 2\\nSkipping line 1862: expected 1 fields, saw 2\\nSkipping line 1876: expected 1 fields, saw 5\\nSkipping line 1877: expected 1 fields, saw 5\\nSkipping line 1891: expected 1 fields, saw 13\\nSkipping line 1892: expected 1 fields, saw 13\\nSkipping line 1906: expected 1 fields, saw 2\\nSkipping line 1910: expected 1 fields, saw 2\\nSkipping line 1911: expected 1 fields, saw 2\\nSkipping line 1912: expected 1 fields, saw 2\\nSkipping line 1913: expected 1 fields, saw 6\\nSkipping line 1914: expected 1 fields, saw 2\\nSkipping line 1921: expected 1 fields, saw 2\\nSkipping line 1924: expected 1 fields, saw 2\\nSkipping line 1925: expected 1 fields, saw 2\\nSkipping line 1926: expected 1 fields, saw 6\\nSkipping line 1941: expected 1 fields, saw 4\\nSkipping line 1942: expected 1 fields, saw 4\\nSkipping line 1956: expected 1 fields, saw 8\\nSkipping line 1957: expected 1 fields, saw 2\\nSkipping line 1959: expected 1 fields, saw 8\\nSkipping line 1960: expected 1 fields, saw 2\\nSkipping line 1975: expected 1 fields, saw 7\\nSkipping line 1976: expected 1 fields, saw 7\\nSkipping line 1990: expected 1 fields, saw 3\\nSkipping line 1991: expected 1 fields, saw 3\\nSkipping line 2005: expected 1 fields, saw 3\\nSkipping line 2006: expected 1 fields, saw 3\\nSkipping line 2023: expected 1 fields, saw 9\\nSkipping line 2024: expected 1 fields, saw 2\\nSkipping line 2030: expected 1 fields, saw 9\\nSkipping line 2031: expected 1 fields, saw 2\\nSkipping line 2047: expected 1 fields, saw 7\\nSkipping line 2048: expected 1 fields, saw 7\\nSkipping line 2063: expected 1 fields, saw 2\\nSkipping line 2064: expected 1 fields, saw 2\\nSkipping line 2077: expected 1 fields, saw 2\\nSkipping line 2078: expected 1 fields, saw 4\\nSkipping line 2079: expected 1 fields, saw 4\\nSkipping line 2134: expected 1 fields, saw 3\\nSkipping line 2136: expected 1 fields, saw 3\\nSkipping line 2149: expected 1 fields, saw 2\\nSkipping line 2151: expected 1 fields, saw 2\\nSkipping line 2152: expected 1 fields, saw 2\\nSkipping line 2166: expected 1 fields, saw 3\\nSkipping line 2167: expected 1 fields, saw 3\\nSkipping line 2181: expected 1 fields, saw 3\\nSkipping line 2182: expected 1 fields, saw 3\\nSkipping line 2183: expected 1 fields, saw 3\\nSkipping line 2184: expected 1 fields, saw 3\\nSkipping line 2198: expected 1 fields, saw 4\\nSkipping line 2199: expected 1 fields, saw 4\\nSkipping line 2213: expected 1 fields, saw 3\\nSkipping line 2214: expected 1 fields, saw 5\\nSkipping line 2215: expected 1 fields, saw 3\\nSkipping line 2216: expected 1 fields, saw 3\\nSkipping line 2217: expected 1 fields, saw 5\\nSkipping line 2218: expected 1 fields, saw 3\\nSkipping line 2232: expected 1 fields, saw 4\\nSkipping line 2233: expected 1 fields, saw 4\\nSkipping line 2248: expected 1 fields, saw 2\\nSkipping line 2249: expected 1 fields, saw 2\\nSkipping line 2264: expected 1 fields, saw 4\\nSkipping line 2265: expected 1 fields, saw 4\\nSkipping line 2279: expected 1 fields, saw 6\\nSkipping line 2280: expected 1 fields, saw 6\\nSkipping line 2294: expected 1 fields, saw 6\\nSkipping line 2295: expected 1 fields, saw 6\\nSkipping line 2310: expected 1 fields, saw 14\\nSkipping line 2311: expected 1 fields, saw 14\\nSkipping line 2325: expected 1 fields, saw 2\\nSkipping line 2326: expected 1 fields, saw 2\\nSkipping line 2340: expected 1 fields, saw 3\\nSkipping line 2341: expected 1 fields, saw 3\\nSkipping line 2355: expected 1 fields, saw 3\\nSkipping line 2356: expected 1 fields, saw 3\\nSkipping line 2384: expected 1 fields, saw 2\\nSkipping line 2385: expected 1 fields, saw 3\\nSkipping line 2386: expected 1 fields, saw 3\\nSkipping line 2400: expected 1 fields, saw 4\\nSkipping line 2401: expected 1 fields, saw 3\\nSkipping line 2402: expected 1 fields, saw 3\\nSkipping line 2416: expected 1 fields, saw 4\\nSkipping line 2417: expected 1 fields, saw 3\\nSkipping line 2418: expected 1 fields, saw 6\\nSkipping line 2420: expected 1 fields, saw 4\\nSkipping line 2421: expected 1 fields, saw 3\\nSkipping line 2422: expected 1 fields, saw 6\\nSkipping line 2437: expected 1 fields, saw 3\\nSkipping line 2438: expected 1 fields, saw 3\\nSkipping line 2467: expected 1 fields, saw 5\\nSkipping line 2468: expected 1 fields, saw 5\\nSkipping line 2483: expected 1 fields, saw 6\\nSkipping line 2486: expected 1 fields, saw 6\\nSkipping line 2501: expected 1 fields, saw 3\\nSkipping line 2502: expected 1 fields, saw 3\\nSkipping line 2531: expected 1 fields, saw 4\\nSkipping line 2532: expected 1 fields, saw 4\\nSkipping line 2561: expected 1 fields, saw 3\\nSkipping line 2563: expected 1 fields, saw 3\\nSkipping line 2577: expected 1 fields, saw 2\\nSkipping line 2578: expected 1 fields, saw 5\\nSkipping line 2579: expected 1 fields, saw 12\\nSkipping line 2580: expected 1 fields, saw 5\\nSkipping line 2581: expected 1 fields, saw 4\\nSkipping line 2583: expected 1 fields, saw 5\\nSkipping line 2584: expected 1 fields, saw 12\\nSkipping line 2585: expected 1 fields, saw 5\\nSkipping line 2586: expected 1 fields, saw 4\\nSkipping line 2600: expected 1 fields, saw 2\\nSkipping line 2601: expected 1 fields, saw 11\\nSkipping line 2602: expected 1 fields, saw 14\\nSkipping line 2603: expected 1 fields, saw 8\\nSkipping line 2604: expected 1 fields, saw 11\\nSkipping line 2605: expected 1 fields, saw 14\\nSkipping line 2606: expected 1 fields, saw 8\\nSkipping line 2620: expected 1 fields, saw 4\\nSkipping line 2621: expected 1 fields, saw 4\\nSkipping line 2622: expected 1 fields, saw 4\\nSkipping line 2623: expected 1 fields, saw 4\\nSkipping line 2639: expected 1 fields, saw 4\\nSkipping line 2644: expected 1 fields, saw 3\\nSkipping line 2645: expected 1 fields, saw 2\\nSkipping line 2650: expected 1 fields, saw 4\\nSkipping line 2656: expected 1 fields, saw 3\\nSkipping line 2657: expected 1 fields, saw 2\\nSkipping line 2676: expected 1 fields, saw 4\\nSkipping line 2677: expected 1 fields, saw 4\\nSkipping line 2706: expected 1 fields, saw 4\\nSkipping line 2707: expected 1 fields, saw 4\\nSkipping line 2721: expected 1 fields, saw 7\\nSkipping line 2722: expected 1 fields, saw 7\\nSkipping line 2735: expected 1 fields, saw 3\\nSkipping line 2740: expected 1 fields, saw 3\\nSkipping line 2741: expected 1 fields, saw 2\\nSkipping line 2749: expected 1 fields, saw 3\\nSkipping line 2750: expected 1 fields, saw 2\\nSkipping line 2767: expected 1 fields, saw 4\\nSkipping line 2768: expected 1 fields, saw 2\\nSkipping line 2769: expected 1 fields, saw 3\\nSkipping line 2771: expected 1 fields, saw 4\\nSkipping line 2772: expected 1 fields, saw 2\\nSkipping line 2773: expected 1 fields, saw 3\\nSkipping line 2788: expected 1 fields, saw 2\\nSkipping line 2789: expected 1 fields, saw 2\\nSkipping line 2803: expected 1 fields, saw 3\\nSkipping line 2804: expected 1 fields, saw 3\\nSkipping line 2817: expected 1 fields, saw 2\\nSkipping line 2818: expected 1 fields, saw 4\\nSkipping line 2819: expected 1 fields, saw 4\\nSkipping line 2833: expected 1 fields, saw 6\\nSkipping line 2834: expected 1 fields, saw 6\\nSkipping line 2847: expected 1 fields, saw 2\\nSkipping line 2848: expected 1 fields, saw 11\\nSkipping line 2849: expected 1 fields, saw 2\\nSkipping line 2850: expected 1 fields, saw 2\\nSkipping line 2851: expected 1 fields, saw 11\\nSkipping line 2852: expected 1 fields, saw 2\\nSkipping line 2853: expected 1 fields, saw 2\\nSkipping line 2866: expected 1 fields, saw 2\\nSkipping line 2867: expected 1 fields, saw 2\\nSkipping line 2868: expected 1 fields, saw 2\\nSkipping line 2881: expected 1 fields, saw 3\\nSkipping line 2882: expected 1 fields, saw 3\\nSkipping line 2883: expected 1 fields, saw 3\\nSkipping line 2897: expected 1 fields, saw 2\\nSkipping line 2898: expected 1 fields, saw 2\\nSkipping line 2912: expected 1 fields, saw 3\\nSkipping line 2913: expected 1 fields, saw 3\\nSkipping line 2928: expected 1 fields, saw 10\\nSkipping line 2929: expected 1 fields, saw 10\\nSkipping line 2943: expected 1 fields, saw 3\\nSkipping line 2945: expected 1 fields, saw 3\\nSkipping line 2974: expected 1 fields, saw 4\\nSkipping line 2975: expected 1 fields, saw 4\\nSkipping line 2989: expected 1 fields, saw 5\\nSkipping line 2990: expected 1 fields, saw 5\\nSkipping line 3005: expected 1 fields, saw 3\\nSkipping line 3010: expected 1 fields, saw 3\\nSkipping line 3011: expected 1 fields, saw 2\\nSkipping line 3012: expected 1 fields, saw 4\\nSkipping line 3013: expected 1 fields, saw 3\\nSkipping line 3014: expected 1 fields, saw 2\\nSkipping line 3015: expected 1 fields, saw 3\\nSkipping line 3017: expected 1 fields, saw 3\\nSkipping line 3022: expected 1 fields, saw 6\\nSkipping line 3024: expected 1 fields, saw 3\\nSkipping line 3027: expected 1 fields, saw 23\\nSkipping line 3042: expected 1 fields, saw 2\\nSkipping line 3043: expected 1 fields, saw 5\\nSkipping line 3044: expected 1 fields, saw 3\\nSkipping line 3046: expected 1 fields, saw 8\\nSkipping line 3060: expected 1 fields, saw 3\\nSkipping line 3061: expected 1 fields, saw 4\\nSkipping line 3063: expected 1 fields, saw 6\\nSkipping line 3077: expected 1 fields, saw 5\\nSkipping line 3078: expected 1 fields, saw 5\\nSkipping line 3092: expected 1 fields, saw 3\\nSkipping line 3093: expected 1 fields, saw 3\\nSkipping line 3107: expected 1 fields, saw 6\\nSkipping line 3108: expected 1 fields, saw 6\\nSkipping line 3121: expected 1 fields, saw 2\\nSkipping line 3122: expected 1 fields, saw 3\\nSkipping line 3124: expected 1 fields, saw 3\\nSkipping line 3125: expected 1 fields, saw 11\\nSkipping line 3139: expected 1 fields, saw 2\\nSkipping line 3141: expected 1 fields, saw 2\\nSkipping line 3155: expected 1 fields, saw 2\\nSkipping line 3157: expected 1 fields, saw 2\\nSkipping line 3159: expected 1 fields, saw 3\\nSkipping line 3173: expected 1 fields, saw 3\\nSkipping line 3174: expected 1 fields, saw 5\\nSkipping line 3175: expected 1 fields, saw 2\\nSkipping line 3181: expected 1 fields, saw 3\\nSkipping line 3183: expected 1 fields, saw 3\\nSkipping line 3184: expected 1 fields, saw 10\\nSkipping line 3198: expected 1 fields, saw 2\\nSkipping line 3199: expected 1 fields, saw 2\\nSkipping line 3213: expected 1 fields, saw 3\\nSkipping line 3214: expected 1 fields, saw 4\\nSkipping line 3215: expected 1 fields, saw 6\\nSkipping line 3229: expected 1 fields, saw 7\\nSkipping line 3232: expected 1 fields, saw 7\\nSkipping line 3246: expected 1 fields, saw 3\\nSkipping line 3247: expected 1 fields, saw 4\\nSkipping line 3248: expected 1 fields, saw 6\\nSkipping line 3262: expected 1 fields, saw 3\\nSkipping line 3263: expected 1 fields, saw 3\\nSkipping line 3281: expected 1 fields, saw 3\\nSkipping line 3282: expected 1 fields, saw 3\\nSkipping line 3296: expected 1 fields, saw 2\\nSkipping line 3302: expected 1 fields, saw 2\\nSkipping line 3324: expected 1 fields, saw 2\\nSkipping line 3327: expected 1 fields, saw 2\\nSkipping line 3343: expected 1 fields, saw 4\\nSkipping line 3344: expected 1 fields, saw 2\\nSkipping line 3349: expected 1 fields, saw 4\\nSkipping line 3351: expected 1 fields, saw 2\\nSkipping line 3372: expected 1 fields, saw 2\\nSkipping line 3373: expected 1 fields, saw 2\\nSkipping line 3376: expected 1 fields, saw 2\\nSkipping line 3380: expected 1 fields, saw 4\\nSkipping line 3394: expected 1 fields, saw 3\\nSkipping line 3401: expected 1 fields, saw 3\\nSkipping line 3403: expected 1 fields, saw 5\\nSkipping line 3404: expected 1 fields, saw 2\\nSkipping line 3405: expected 1 fields, saw 2\\nSkipping line 3406: expected 1 fields, saw 3\\nSkipping line 3407: expected 1 fields, saw 2\\nSkipping line 3410: expected 1 fields, saw 14\\nSkipping line 3424: expected 1 fields, saw 3\\nSkipping line 3425: expected 1 fields, saw 3\\nSkipping line 3457: expected 1 fields, saw 3\\nSkipping line 3462: expected 1 fields, saw 3\\nSkipping line 3477: expected 1 fields, saw 4\\nSkipping line 3478: expected 1 fields, saw 4\\nSkipping line 3493: expected 1 fields, saw 4\\nSkipping line 3495: expected 1 fields, saw 4\\nSkipping line 3510: expected 1 fields, saw 2\\nSkipping line 3512: expected 1 fields, saw 2\\nSkipping line 3527: expected 1 fields, saw 18\\nSkipping line 3529: expected 1 fields, saw 18\\nSkipping line 3544: expected 1 fields, saw 3\\nSkipping line 3546: expected 1 fields, saw 3\\nSkipping line 3561: expected 1 fields, saw 3\\nSkipping line 3562: expected 1 fields, saw 2\\nSkipping line 3563: expected 1 fields, saw 4\\nSkipping line 3578: expected 1 fields, saw 6\\nSkipping line 3579: expected 1 fields, saw 6\\nSkipping line 3594: expected 1 fields, saw 4\\nSkipping line 3596: expected 1 fields, saw 4\\nSkipping line 3611: expected 1 fields, saw 5\\nSkipping line 3612: expected 1 fields, saw 4\\nSkipping line 3613: expected 1 fields, saw 8\\nSkipping line 3629: expected 1 fields, saw 4\\nSkipping line 3631: expected 1 fields, saw 2\\nSkipping line 3632: expected 1 fields, saw 2\\nSkipping line 3635: expected 1 fields, saw 4\\nSkipping line 3636: expected 1 fields, saw 3\\nSkipping line 3652: expected 1 fields, saw 2\\nSkipping line 3653: expected 1 fields, saw 3\\nSkipping line 3658: expected 1 fields, saw 9\\nSkipping line 3662: expected 1 fields, saw 2\\nSkipping line 3664: expected 1 fields, saw 2\\nSkipping line 3665: expected 1 fields, saw 4\\nSkipping line 3666: expected 1 fields, saw 2\\nSkipping line 3667: expected 1 fields, saw 5\\nSkipping line 3669: expected 1 fields, saw 3\\nSkipping line 3671: expected 1 fields, saw 2\\nSkipping line 3675: expected 1 fields, saw 3\\nSkipping line 3677: expected 1 fields, saw 3\\nSkipping line 3679: expected 1 fields, saw 29\\nSkipping line 3709: expected 1 fields, saw 3\\nSkipping line 3711: expected 1 fields, saw 3\\nSkipping line 3725: expected 1 fields, saw 2\\nSkipping line 3726: expected 1 fields, saw 3\\nSkipping line 3727: expected 1 fields, saw 6\\nSkipping line 3728: expected 1 fields, saw 5\\nSkipping line 3729: expected 1 fields, saw 2\\nSkipping line 3730: expected 1 fields, saw 3\\nSkipping line 3731: expected 1 fields, saw 6\\nSkipping line 3732: expected 1 fields, saw 5\\nSkipping line 3746: expected 1 fields, saw 2\\nSkipping line 3747: expected 1 fields, saw 2\\nSkipping line 3761: expected 1 fields, saw 7\\nSkipping line 3762: expected 1 fields, saw 3\\nSkipping line 3763: expected 1 fields, saw 7\\nSkipping line 3764: expected 1 fields, saw 3\\nSkipping line 3778: expected 1 fields, saw 2\\nSkipping line 3784: expected 1 fields, saw 3\\nSkipping line 3785: expected 1 fields, saw 2\\nSkipping line 3791: expected 1 fields, saw 3\\nSkipping line 3805: expected 1 fields, saw 4\\nSkipping line 3806: expected 1 fields, saw 4\\nSkipping line 3820: expected 1 fields, saw 2\\nSkipping line 3821: expected 1 fields, saw 2\\nSkipping line 3835: expected 1 fields, saw 9\\nSkipping line 3836: expected 1 fields, saw 9\\nSkipping line 3850: expected 1 fields, saw 4\\nSkipping line 3851: expected 1 fields, saw 4\\nSkipping line 3865: expected 1 fields, saw 3\\nSkipping line 3866: expected 1 fields, saw 5\\nSkipping line 3870: expected 1 fields, saw 8\\nSkipping line 3871: expected 1 fields, saw 3\\nSkipping line 3872: expected 1 fields, saw 5\\nSkipping line 3876: expected 1 fields, saw 8\\nSkipping line 3891: expected 1 fields, saw 5\\nSkipping line 3892: expected 1 fields, saw 5\\nSkipping line 3906: expected 1 fields, saw 3\\nSkipping line 3907: expected 1 fields, saw 3\\nSkipping line 3908: expected 1 fields, saw 2\\nSkipping line 3909: expected 1 fields, saw 3\\nSkipping line 3910: expected 1 fields, saw 3\\nSkipping line 3911: expected 1 fields, saw 2\\nSkipping line 3925: expected 1 fields, saw 3\\nSkipping line 3926: expected 1 fields, saw 3\\nSkipping line 3940: expected 1 fields, saw 5\\nSkipping line 3941: expected 1 fields, saw 5\\nSkipping line 3955: expected 1 fields, saw 2\\nSkipping line 3956: expected 1 fields, saw 4\\nSkipping line 3957: expected 1 fields, saw 2\\nSkipping line 3987: expected 1 fields, saw 2\\nSkipping line 3988: expected 1 fields, saw 2\\nSkipping line 4017: expected 1 fields, saw 2\\nSkipping line 4018: expected 1 fields, saw 2\\nSkipping line 4033: expected 1 fields, saw 4\\nSkipping line 4035: expected 1 fields, saw 4\\nSkipping line 4049: expected 1 fields, saw 5\\nSkipping line 4050: expected 1 fields, saw 5\\nSkipping line 4052: expected 1 fields, saw 5\\nSkipping line 4053: expected 1 fields, saw 5\\nSkipping line 4067: expected 1 fields, saw 4\\nSkipping line 4068: expected 1 fields, saw 4\\nSkipping line 4082: expected 1 fields, saw 2\\nSkipping line 4083: expected 1 fields, saw 2\\nSkipping line 4097: expected 1 fields, saw 4\\nSkipping line 4099: expected 1 fields, saw 4\\nSkipping line 4113: expected 1 fields, saw 2\\nSkipping line 4115: expected 1 fields, saw 2\\nSkipping line 4131: expected 1 fields, saw 2\\nSkipping line 4133: expected 1 fields, saw 2\\nSkipping line 4180: expected 1 fields, saw 3\\nSkipping line 4181: expected 1 fields, saw 3\\nSkipping line 4197: expected 1 fields, saw 2\\nSkipping line 4201: expected 1 fields, saw 3\\nSkipping line 4202: expected 1 fields, saw 2\\nSkipping line 4204: expected 1 fields, saw 2\\nSkipping line 4227: expected 1 fields, saw 3\\nSkipping line 4229: expected 1 fields, saw 2\\nSkipping line 4245: expected 1 fields, saw 4\\nSkipping line 4246: expected 1 fields, saw 8\\nSkipping line 4247: expected 1 fields, saw 4\\nSkipping line 4249: expected 1 fields, saw 8\\nSkipping line 4262: expected 1 fields, saw 2\\nSkipping line 4263: expected 1 fields, saw 4\\nSkipping line 4265: expected 1 fields, saw 4\\nSkipping line 4280: expected 1 fields, saw 5\\nSkipping line 4281: expected 1 fields, saw 3\\nSkipping line 4282: expected 1 fields, saw 5\\nSkipping line 4284: expected 1 fields, saw 3\\nSkipping line 4299: expected 1 fields, saw 2\\nSkipping line 4303: expected 1 fields, saw 5\\nSkipping line 4307: expected 1 fields, saw 3\\nSkipping line 4308: expected 1 fields, saw 2\\nSkipping line 4310: expected 1 fields, saw 7\\nSkipping line 4325: expected 1 fields, saw 3\\nSkipping line 4327: expected 1 fields, saw 3\\nSkipping line 4344: expected 1 fields, saw 6\\nSkipping line 4345: expected 1 fields, saw 6\\nSkipping line 4360: expected 1 fields, saw 4\\nSkipping line 4362: expected 1 fields, saw 4\\nSkipping line 4377: expected 1 fields, saw 5\\nSkipping line 4379: expected 1 fields, saw 5\\nSkipping line 4394: expected 1 fields, saw 7\\nSkipping line 4395: expected 1 fields, saw 3\\nSkipping line 4396: expected 1 fields, saw 7\\nSkipping line 4398: expected 1 fields, saw 3\\nSkipping line 4412: expected 1 fields, saw 2\\nSkipping line 4414: expected 1 fields, saw 2\\nSkipping line 4429: expected 1 fields, saw 5\\nSkipping line 4431: expected 1 fields, saw 5\\nSkipping line 4446: expected 1 fields, saw 3\\nSkipping line 4448: expected 1 fields, saw 3\\nSkipping line 4463: expected 1 fields, saw 7\\nSkipping line 4465: expected 1 fields, saw 7\\nSkipping line 4480: expected 1 fields, saw 4\\nSkipping line 4482: expected 1 fields, saw 4\\nSkipping line 4497: expected 1 fields, saw 4\\nSkipping line 4499: expected 1 fields, saw 4\\nSkipping line 4514: expected 1 fields, saw 3\\nSkipping line 4516: expected 1 fields, saw 3\\nSkipping line 4531: expected 1 fields, saw 4\\nSkipping line 4532: expected 1 fields, saw 2\\nSkipping line 4533: expected 1 fields, saw 4\\nSkipping line 4535: expected 1 fields, saw 2\\nSkipping line 4550: expected 1 fields, saw 9\\nSkipping line 4551: expected 1 fields, saw 3\\nSkipping line 4552: expected 1 fields, saw 5\\nSkipping line 4553: expected 1 fields, saw 5\\nSkipping line 4556: expected 1 fields, saw 3\\nSkipping line 4557: expected 1 fields, saw 6\\nSkipping line 4558: expected 1 fields, saw 9\\nSkipping line 4560: expected 1 fields, saw 3\\nSkipping line 4562: expected 1 fields, saw 5\\nSkipping line 4564: expected 1 fields, saw 5\\nSkipping line 4570: expected 1 fields, saw 3\\nSkipping line 4572: expected 1 fields, saw 6\\nSkipping line 4587: expected 1 fields, saw 2\\nSkipping line 4589: expected 1 fields, saw 2\\nSkipping line 4594: expected 1 fields, saw 3\\nSkipping line 4595: expected 1 fields, saw 2\\nSkipping line 4596: expected 1 fields, saw 5\\nSkipping line 4597: expected 1 fields, saw 3\\nSkipping line 4614: expected 1 fields, saw 3\\nSkipping line 4615: expected 1 fields, saw 2\\nSkipping line 4616: expected 1 fields, saw 5\\nSkipping line 4621: expected 1 fields, saw 3\\nSkipping line 4623: expected 1 fields, saw 2\\nSkipping line 4625: expected 1 fields, saw 5\\nSkipping line 4639: expected 1 fields, saw 9\\nSkipping line 4641: expected 1 fields, saw 9\\nSkipping line 4655: expected 1 fields, saw 2\\nSkipping line 4656: expected 1 fields, saw 2\\nSkipping line 4670: expected 1 fields, saw 2\\nSkipping line 4673: expected 1 fields, saw 2\\nSkipping line 4690: expected 1 fields, saw 4\\nSkipping line 4692: expected 1 fields, saw 4\\nSkipping line 4709: expected 1 fields, saw 2\\nSkipping line 4712: expected 1 fields, saw 2\\nSkipping line 4729: expected 1 fields, saw 3\\nSkipping line 4731: expected 1 fields, saw 3\\nSkipping line 4745: expected 1 fields, saw 4\\nSkipping line 4747: expected 1 fields, saw 4\\nSkipping line 4762: expected 1 fields, saw 3\\nSkipping line 4764: expected 1 fields, saw 3\\nSkipping line 4779: expected 1 fields, saw 2\\nSkipping line 4780: expected 1 fields, saw 2\\nSkipping line 4782: expected 1 fields, saw 2\\nSkipping line 4784: expected 1 fields, saw 2\\nSkipping line 4830: expected 1 fields, saw 2\\nSkipping line 4831: expected 1 fields, saw 3\\nSkipping line 4832: expected 1 fields, saw 3\\nSkipping line 4833: expected 1 fields, saw 3\\nSkipping line 4834: expected 1 fields, saw 3\\nSkipping line 4835: expected 1 fields, saw 3\\nSkipping line 4842: expected 1 fields, saw 3\\nSkipping line 4843: expected 1 fields, saw 3\\nSkipping line 4844: expected 1 fields, saw 3\\nSkipping line 4845: expected 1 fields, saw 3\\nSkipping line 4846: expected 1 fields, saw 3\\nSkipping line 4847: expected 1 fields, saw 3\\n'\n"
          ],
          "name": "stderr"
        }
      ]
    },
    {
      "cell_type": "code",
      "metadata": {
        "colab": {
          "resources": {
            "http://localhost:8080/nbextensions/google.colab/files.js": {
              "data": "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",
              "ok": true,
              "headers": [
                [
                  "content-type",
                  "application/javascript"
                ]
              ],
              "status": 200,
              "status_text": ""
            }
          },
          "base_uri": "https://localhost:8080/",
          "height": 72
        },
        "id": "4urim3LLkg0r",
        "outputId": "1215a57f-ce07-4d5e-b027-93bd12bf9a67"
      },
      "source": [
        "from google.colab import files\n",
        "uploaded = files.upload()"
      ],
      "execution_count": 6,
      "outputs": [
        {
          "output_type": "display_data",
          "data": {
            "text/html": [
              "\n",
              "     <input type=\"file\" id=\"files-81d91e82-8fa9-4116-9360-5541e3ee3a16\" name=\"files[]\" multiple disabled\n",
              "        style=\"border:none\" />\n",
              "     <output id=\"result-81d91e82-8fa9-4116-9360-5541e3ee3a16\">\n",
              "      Upload widget is only available when the cell has been executed in the\n",
              "      current browser session. Please rerun this cell to enable.\n",
              "      </output>\n",
              "      <script src=\"/nbextensions/google.colab/files.js\"></script> "
            ],
            "text/plain": [
              "<IPython.core.display.HTML object>"
            ]
          },
          "metadata": {
            "tags": []
          }
        },
        {
          "output_type": "stream",
          "text": [
            "Saving faq_covidbert.csv to faq_covidbert.csv\n"
          ],
          "name": "stdout"
        }
      ]
    },
    {
      "cell_type": "code",
      "metadata": {
        "id": "if25m_z0ksVo"
      },
      "source": [
        "df = pd.read_csv('faq_covidbert.csv')"
      ],
      "execution_count": 7,
      "outputs": []
    },
    {
      "cell_type": "code",
      "metadata": {
        "colab": {
          "base_uri": "https://localhost:8080/"
        },
        "id": "cqb_qauug2au",
        "outputId": "7ecafb15-cf2c-460e-a71a-8679954813f4"
      },
      "source": [
        "ques = df[\"question\"].head(1)\n",
        "sentences = df['answer'].head(5)\n",
        "text = \" ''' \"\n",
        "for a in sentences:\n",
        "    text+='<p>'\n",
        "    text+=a\n",
        "    text+='<\\p>'\n",
        "text += \" ''' \"\n",
        "print (ques)"
      ],
      "execution_count": 12,
      "outputs": [
        {
          "output_type": "stream",
          "text": [
            "0    What is a novel coronavirus?\n",
            "Name: question, dtype: object\n"
          ],
          "name": "stdout"
        }
      ]
    },
    {
      "cell_type": "code",
      "metadata": {
        "id": "GxEAC5emOG0N",
        "colab": {
          "base_uri": "https://localhost:8080/",
          "height": 496
        },
        "outputId": "3284db82-046b-4b4c-c604-b9154bda90b8"
      },
      "source": [
        "for question in ques:\n",
        "  question_tokens = tokenizer.tokenize(question)\n",
        "  paragraph_tokens = tokenizer.tokenize(text)\n",
        "  tokens = ['[CLS]'] + question_tokens + ['[SEP]'] + paragraph_tokens + ['[SEP]']\n",
        "  input_word_ids = tokenizer.convert_tokens_to_ids(tokens)\n",
        "  input_mask = [1] * len(input_word_ids)\n",
        "  input_type_ids = [0] * (1 + len(question_tokens) + 1) + [1] * (len(paragraph_tokens) + 1)\n",
        "\n",
        "  input_word_ids, input_mask, input_type_ids = map(lambda t: tf.expand_dims(\n",
        "      tf.convert_to_tensor(t, dtype=tf.int32), 0), (input_word_ids, input_mask, input_type_ids))\n",
        "  outputs = model([input_word_ids, input_mask, input_type_ids])\n",
        "  # using `[1:]` will enforce an answer. `outputs[0][0][0]` is the ignored '[CLS]' token logit\n",
        "  short_start = tf.argmax(outputs[0][0][1:]) + 1\n",
        "  short_end = tf.argmax(outputs[1][0][1:]) + 1\n",
        "  answer_tokens = tokens[short_start: short_end + 1]\n",
        "  answer = tokenizer.convert_tokens_to_string(answer_tokens)\n",
        "  print(f'Question: {question}')\n",
        "  print(f'Answer: {answer}')\n"
      ],
      "execution_count": 13,
      "outputs": [
        {
          "output_type": "error",
          "ename": "InvalidArgumentError",
          "evalue": "ignored",
          "traceback": [
            "\u001b[0;31m---------------------------------------------------------------------------\u001b[0m",
            "\u001b[0;31mInvalidArgumentError\u001b[0m                      Traceback (most recent call last)",
            "\u001b[0;32m<ipython-input-13-95caf4e0c30a>\u001b[0m in \u001b[0;36m<module>\u001b[0;34m()\u001b[0m\n\u001b[1;32m      9\u001b[0m   input_word_ids, input_mask, input_type_ids = map(lambda t: tf.expand_dims(\n\u001b[1;32m     10\u001b[0m       tf.convert_to_tensor(t, dtype=tf.int32), 0), (input_word_ids, input_mask, input_type_ids))\n\u001b[0;32m---> 11\u001b[0;31m   \u001b[0moutputs\u001b[0m \u001b[0;34m=\u001b[0m \u001b[0mmodel\u001b[0m\u001b[0;34m(\u001b[0m\u001b[0;34m[\u001b[0m\u001b[0minput_word_ids\u001b[0m\u001b[0;34m,\u001b[0m \u001b[0minput_mask\u001b[0m\u001b[0;34m,\u001b[0m \u001b[0minput_type_ids\u001b[0m\u001b[0;34m]\u001b[0m\u001b[0;34m)\u001b[0m\u001b[0;34m\u001b[0m\u001b[0;34m\u001b[0m\u001b[0m\n\u001b[0m\u001b[1;32m     12\u001b[0m   \u001b[0;31m# using `[1:]` will enforce an answer. `outputs[0][0][0]` is the ignored '[CLS]' token logit\u001b[0m\u001b[0;34m\u001b[0m\u001b[0;34m\u001b[0m\u001b[0;34m\u001b[0m\u001b[0m\n\u001b[1;32m     13\u001b[0m   \u001b[0mshort_start\u001b[0m \u001b[0;34m=\u001b[0m \u001b[0mtf\u001b[0m\u001b[0;34m.\u001b[0m\u001b[0margmax\u001b[0m\u001b[0;34m(\u001b[0m\u001b[0moutputs\u001b[0m\u001b[0;34m[\u001b[0m\u001b[0;36m0\u001b[0m\u001b[0;34m]\u001b[0m\u001b[0;34m[\u001b[0m\u001b[0;36m0\u001b[0m\u001b[0;34m]\u001b[0m\u001b[0;34m[\u001b[0m\u001b[0;36m1\u001b[0m\u001b[0;34m:\u001b[0m\u001b[0;34m]\u001b[0m\u001b[0;34m)\u001b[0m \u001b[0;34m+\u001b[0m \u001b[0;36m1\u001b[0m\u001b[0;34m\u001b[0m\u001b[0;34m\u001b[0m\u001b[0m\n",
            "\u001b[0;32m/usr/local/lib/python3.6/dist-packages/tensorflow/python/saved_model/load.py\u001b[0m in \u001b[0;36m_call_attribute\u001b[0;34m(instance, *args, **kwargs)\u001b[0m\n\u001b[1;32m    666\u001b[0m \u001b[0;34m\u001b[0m\u001b[0m\n\u001b[1;32m    667\u001b[0m \u001b[0;32mdef\u001b[0m \u001b[0m_call_attribute\u001b[0m\u001b[0;34m(\u001b[0m\u001b[0minstance\u001b[0m\u001b[0;34m,\u001b[0m \u001b[0;34m*\u001b[0m\u001b[0margs\u001b[0m\u001b[0;34m,\u001b[0m \u001b[0;34m**\u001b[0m\u001b[0mkwargs\u001b[0m\u001b[0;34m)\u001b[0m\u001b[0;34m:\u001b[0m\u001b[0;34m\u001b[0m\u001b[0;34m\u001b[0m\u001b[0m\n\u001b[0;32m--> 668\u001b[0;31m   \u001b[0;32mreturn\u001b[0m \u001b[0minstance\u001b[0m\u001b[0;34m.\u001b[0m\u001b[0m__call__\u001b[0m\u001b[0;34m(\u001b[0m\u001b[0;34m*\u001b[0m\u001b[0margs\u001b[0m\u001b[0;34m,\u001b[0m \u001b[0;34m**\u001b[0m\u001b[0mkwargs\u001b[0m\u001b[0;34m)\u001b[0m\u001b[0;34m\u001b[0m\u001b[0;34m\u001b[0m\u001b[0m\n\u001b[0m\u001b[1;32m    669\u001b[0m \u001b[0;34m\u001b[0m\u001b[0m\n\u001b[1;32m    670\u001b[0m \u001b[0;34m\u001b[0m\u001b[0m\n",
            "\u001b[0;32m/usr/local/lib/python3.6/dist-packages/tensorflow/python/eager/def_function.py\u001b[0m in \u001b[0;36m__call__\u001b[0;34m(self, *args, **kwds)\u001b[0m\n\u001b[1;32m    826\u001b[0m     \u001b[0mtracing_count\u001b[0m \u001b[0;34m=\u001b[0m \u001b[0mself\u001b[0m\u001b[0;34m.\u001b[0m\u001b[0mexperimental_get_tracing_count\u001b[0m\u001b[0;34m(\u001b[0m\u001b[0;34m)\u001b[0m\u001b[0;34m\u001b[0m\u001b[0;34m\u001b[0m\u001b[0m\n\u001b[1;32m    827\u001b[0m     \u001b[0;32mwith\u001b[0m \u001b[0mtrace\u001b[0m\u001b[0;34m.\u001b[0m\u001b[0mTrace\u001b[0m\u001b[0;34m(\u001b[0m\u001b[0mself\u001b[0m\u001b[0;34m.\u001b[0m\u001b[0m_name\u001b[0m\u001b[0;34m)\u001b[0m \u001b[0;32mas\u001b[0m \u001b[0mtm\u001b[0m\u001b[0;34m:\u001b[0m\u001b[0;34m\u001b[0m\u001b[0;34m\u001b[0m\u001b[0m\n\u001b[0;32m--> 828\u001b[0;31m       \u001b[0mresult\u001b[0m \u001b[0;34m=\u001b[0m \u001b[0mself\u001b[0m\u001b[0;34m.\u001b[0m\u001b[0m_call\u001b[0m\u001b[0;34m(\u001b[0m\u001b[0;34m*\u001b[0m\u001b[0margs\u001b[0m\u001b[0;34m,\u001b[0m \u001b[0;34m**\u001b[0m\u001b[0mkwds\u001b[0m\u001b[0;34m)\u001b[0m\u001b[0;34m\u001b[0m\u001b[0;34m\u001b[0m\u001b[0m\n\u001b[0m\u001b[1;32m    829\u001b[0m       \u001b[0mcompiler\u001b[0m \u001b[0;34m=\u001b[0m \u001b[0;34m\"xla\"\u001b[0m \u001b[0;32mif\u001b[0m \u001b[0mself\u001b[0m\u001b[0;34m.\u001b[0m\u001b[0m_experimental_compile\u001b[0m \u001b[0;32melse\u001b[0m \u001b[0;34m\"nonXla\"\u001b[0m\u001b[0;34m\u001b[0m\u001b[0;34m\u001b[0m\u001b[0m\n\u001b[1;32m    830\u001b[0m       \u001b[0mnew_tracing_count\u001b[0m \u001b[0;34m=\u001b[0m \u001b[0mself\u001b[0m\u001b[0;34m.\u001b[0m\u001b[0mexperimental_get_tracing_count\u001b[0m\u001b[0;34m(\u001b[0m\u001b[0;34m)\u001b[0m\u001b[0;34m\u001b[0m\u001b[0;34m\u001b[0m\u001b[0m\n",
            "\u001b[0;32m/usr/local/lib/python3.6/dist-packages/tensorflow/python/eager/def_function.py\u001b[0m in \u001b[0;36m_call\u001b[0;34m(self, *args, **kwds)\u001b[0m\n\u001b[1;32m    860\u001b[0m       \u001b[0;31m# In this case we have not created variables on the first call. So we can\u001b[0m\u001b[0;34m\u001b[0m\u001b[0;34m\u001b[0m\u001b[0;34m\u001b[0m\u001b[0m\n\u001b[1;32m    861\u001b[0m       \u001b[0;31m# run the first trace but we should fail if variables are created.\u001b[0m\u001b[0;34m\u001b[0m\u001b[0;34m\u001b[0m\u001b[0;34m\u001b[0m\u001b[0m\n\u001b[0;32m--> 862\u001b[0;31m       \u001b[0mresults\u001b[0m \u001b[0;34m=\u001b[0m \u001b[0mself\u001b[0m\u001b[0;34m.\u001b[0m\u001b[0m_stateful_fn\u001b[0m\u001b[0;34m(\u001b[0m\u001b[0;34m*\u001b[0m\u001b[0margs\u001b[0m\u001b[0;34m,\u001b[0m \u001b[0;34m**\u001b[0m\u001b[0mkwds\u001b[0m\u001b[0;34m)\u001b[0m\u001b[0;34m\u001b[0m\u001b[0;34m\u001b[0m\u001b[0m\n\u001b[0m\u001b[1;32m    863\u001b[0m       \u001b[0;32mif\u001b[0m \u001b[0mself\u001b[0m\u001b[0;34m.\u001b[0m\u001b[0m_created_variables\u001b[0m\u001b[0;34m:\u001b[0m\u001b[0;34m\u001b[0m\u001b[0;34m\u001b[0m\u001b[0m\n\u001b[1;32m    864\u001b[0m         raise ValueError(\"Creating variables on a non-first call to a function\"\n",
            "\u001b[0;32m/usr/local/lib/python3.6/dist-packages/tensorflow/python/eager/function.py\u001b[0m in \u001b[0;36m__call__\u001b[0;34m(self, *args, **kwargs)\u001b[0m\n\u001b[1;32m   2941\u001b[0m        filtered_flat_args) = self._maybe_define_function(args, kwargs)\n\u001b[1;32m   2942\u001b[0m     return graph_function._call_flat(\n\u001b[0;32m-> 2943\u001b[0;31m         filtered_flat_args, captured_inputs=graph_function.captured_inputs)  # pylint: disable=protected-access\n\u001b[0m\u001b[1;32m   2944\u001b[0m \u001b[0;34m\u001b[0m\u001b[0m\n\u001b[1;32m   2945\u001b[0m   \u001b[0;34m@\u001b[0m\u001b[0mproperty\u001b[0m\u001b[0;34m\u001b[0m\u001b[0;34m\u001b[0m\u001b[0m\n",
            "\u001b[0;32m/usr/local/lib/python3.6/dist-packages/tensorflow/python/eager/function.py\u001b[0m in \u001b[0;36m_call_flat\u001b[0;34m(self, args, captured_inputs, cancellation_manager)\u001b[0m\n\u001b[1;32m   1917\u001b[0m       \u001b[0;31m# No tape is watching; skip to running the function.\u001b[0m\u001b[0;34m\u001b[0m\u001b[0;34m\u001b[0m\u001b[0;34m\u001b[0m\u001b[0m\n\u001b[1;32m   1918\u001b[0m       return self._build_call_outputs(self._inference_function.call(\n\u001b[0;32m-> 1919\u001b[0;31m           ctx, args, cancellation_manager=cancellation_manager))\n\u001b[0m\u001b[1;32m   1920\u001b[0m     forward_backward = self._select_forward_and_backward_functions(\n\u001b[1;32m   1921\u001b[0m         \u001b[0margs\u001b[0m\u001b[0;34m,\u001b[0m\u001b[0;34m\u001b[0m\u001b[0;34m\u001b[0m\u001b[0m\n",
            "\u001b[0;32m/usr/local/lib/python3.6/dist-packages/tensorflow/python/eager/function.py\u001b[0m in \u001b[0;36mcall\u001b[0;34m(self, ctx, args, cancellation_manager)\u001b[0m\n\u001b[1;32m    558\u001b[0m               \u001b[0minputs\u001b[0m\u001b[0;34m=\u001b[0m\u001b[0margs\u001b[0m\u001b[0;34m,\u001b[0m\u001b[0;34m\u001b[0m\u001b[0;34m\u001b[0m\u001b[0m\n\u001b[1;32m    559\u001b[0m               \u001b[0mattrs\u001b[0m\u001b[0;34m=\u001b[0m\u001b[0mattrs\u001b[0m\u001b[0;34m,\u001b[0m\u001b[0;34m\u001b[0m\u001b[0;34m\u001b[0m\u001b[0m\n\u001b[0;32m--> 560\u001b[0;31m               ctx=ctx)\n\u001b[0m\u001b[1;32m    561\u001b[0m         \u001b[0;32melse\u001b[0m\u001b[0;34m:\u001b[0m\u001b[0;34m\u001b[0m\u001b[0;34m\u001b[0m\u001b[0m\n\u001b[1;32m    562\u001b[0m           outputs = execute.execute_with_cancellation(\n",
            "\u001b[0;32m/usr/local/lib/python3.6/dist-packages/tensorflow/python/eager/execute.py\u001b[0m in \u001b[0;36mquick_execute\u001b[0;34m(op_name, num_outputs, inputs, attrs, ctx, name)\u001b[0m\n\u001b[1;32m     58\u001b[0m     \u001b[0mctx\u001b[0m\u001b[0;34m.\u001b[0m\u001b[0mensure_initialized\u001b[0m\u001b[0;34m(\u001b[0m\u001b[0;34m)\u001b[0m\u001b[0;34m\u001b[0m\u001b[0;34m\u001b[0m\u001b[0m\n\u001b[1;32m     59\u001b[0m     tensors = pywrap_tfe.TFE_Py_Execute(ctx._handle, device_name, op_name,\n\u001b[0;32m---> 60\u001b[0;31m                                         inputs, attrs, num_outputs)\n\u001b[0m\u001b[1;32m     61\u001b[0m   \u001b[0;32mexcept\u001b[0m \u001b[0mcore\u001b[0m\u001b[0;34m.\u001b[0m\u001b[0m_NotOkStatusException\u001b[0m \u001b[0;32mas\u001b[0m \u001b[0me\u001b[0m\u001b[0;34m:\u001b[0m\u001b[0;34m\u001b[0m\u001b[0;34m\u001b[0m\u001b[0m\n\u001b[1;32m     62\u001b[0m     \u001b[0;32mif\u001b[0m \u001b[0mname\u001b[0m \u001b[0;32mis\u001b[0m \u001b[0;32mnot\u001b[0m \u001b[0;32mNone\u001b[0m\u001b[0;34m:\u001b[0m\u001b[0;34m\u001b[0m\u001b[0;34m\u001b[0m\u001b[0m\n",
            "\u001b[0;31mInvalidArgumentError\u001b[0m:  indices[0,588] = 588 is not in [0, 512)\n\t [[{{node StatefulPartitionedCall/StatefulPartitionedCall/tf_bert_for_natural_question_answering/StatefulPartitionedCall/bert/StatefulPartitionedCall/embeddings/position_embeddings/embedding_lookup}}]] [Op:__inference_restored_function_body_90446]\n\nFunction call stack:\nrestored_function_body\n"
          ]
        }
      ]
    },
    {
      "cell_type": "code",
      "metadata": {
        "id": "8bCwd9ClOHEn"
      },
      "source": [
        "\n",
        "."
      ],
      "execution_count": null,
      "outputs": []
    }
<<<<<<< HEAD
   ],
}
=======
  ]
}
>>>>>>> 7807bc7528e982e611eb5dd9ddd118be748e5b74
