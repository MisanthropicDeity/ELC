{
 "cells": [
  {
   "cell_type": "code",
   "execution_count": 1,
   "metadata": {},
   "outputs": [],
   "source": [
    "import requests"
   ]
  },
  {
   "cell_type": "code",
   "execution_count": 3,
   "metadata": {},
   "outputs": [],
   "source": [
    "team = \"Barcelona\"\n",
    "year = 2011"
   ]
  },
  {
   "cell_type": "code",
   "execution_count": 19,
   "metadata": {},
   "outputs": [],
   "source": [
    " r= requests.get(f'https://jsonmock.hackerrank.com/api/football_matches?year={str(year)}&team2goals=1&page=1').json()"
   ]
  },
  {
   "cell_type": "code",
   "execution_count": 20,
   "metadata": {},
   "outputs": [
    {
     "data": {
      "text/plain": [
       "{'page': '1',\n",
       " 'per_page': 10,\n",
       " 'total': 671,\n",
       " 'total_pages': 68,\n",
       " 'data': [{'competition': 'UEFA Champions League',\n",
       "   'year': 2011,\n",
       "   'round': 'GroupG',\n",
       "   'team1': 'APOEL Nikosia',\n",
       "   'team2': 'Zenit St. Petersburg',\n",
       "   'team1goals': '2',\n",
       "   'team2goals': '1'},\n",
       "  {'competition': 'UEFA Champions League',\n",
       "   'year': 2011,\n",
       "   'round': 'GroupF',\n",
       "   'team1': 'Borussia Dortmund',\n",
       "   'team2': 'Arsenal',\n",
       "   'team1goals': '1',\n",
       "   'team2goals': '1'},\n",
       "  {'competition': 'UEFA Champions League',\n",
       "   'year': 2011,\n",
       "   'round': 'GroupH',\n",
       "   'team1': 'Viktoria Plzen',\n",
       "   'team2': 'BATE Borisov',\n",
       "   'team1goals': '1',\n",
       "   'team2goals': '1'},\n",
       "  {'competition': 'UEFA Champions League',\n",
       "   'year': 2011,\n",
       "   'round': 'GroupG',\n",
       "   'team1': 'FC Porto',\n",
       "   'team2': 'Shakhtar Donetsk',\n",
       "   'team1goals': '2',\n",
       "   'team2goals': '1'},\n",
       "  {'competition': 'UEFA Champions League',\n",
       "   'year': 2011,\n",
       "   'round': 'GroupF',\n",
       "   'team1': 'Olympiacos',\n",
       "   'team2': 'Olympique Marseille',\n",
       "   'team1goals': '0',\n",
       "   'team2goals': '1'},\n",
       "  {'competition': 'UEFA Champions League',\n",
       "   'year': 2011,\n",
       "   'round': 'GroupC',\n",
       "   'team1': 'Basel',\n",
       "   'team2': 'Otelul Galati',\n",
       "   'team1goals': '2',\n",
       "   'team2goals': '1'},\n",
       "  {'competition': 'UEFA Champions League',\n",
       "   'year': 2011,\n",
       "   'round': 'GroupD',\n",
       "   'team1': 'Dinamo Zagreb',\n",
       "   'team2': 'Real Madrid',\n",
       "   'team1goals': '0',\n",
       "   'team2goals': '1'},\n",
       "  {'competition': 'UEFA Champions League',\n",
       "   'year': 2011,\n",
       "   'round': 'GroupB',\n",
       "   'team1': 'Internazionale',\n",
       "   'team2': 'Trabzonspor',\n",
       "   'team1goals': '0',\n",
       "   'team2goals': '1'},\n",
       "  {'competition': 'UEFA Champions League',\n",
       "   'year': 2011,\n",
       "   'round': 'GroupA',\n",
       "   'team1': 'Manchester City',\n",
       "   'team2': 'SSC Napoli',\n",
       "   'team1goals': '1',\n",
       "   'team2goals': '1'},\n",
       "  {'competition': 'UEFA Champions League',\n",
       "   'year': 2011,\n",
       "   'round': 'GroupC',\n",
       "   'team1': 'SL Benfica',\n",
       "   'team2': 'Manchester United',\n",
       "   'team1goals': '1',\n",
       "   'team2goals': '1'}]}"
      ]
     },
     "execution_count": 20,
     "metadata": {},
     "output_type": "execute_result"
    }
   ],
   "source": [
    "\n",
    "r"
   ]
  },
  {
   "cell_type": "code",
   "execution_count": 11,
   "metadata": {},
   "outputs": [
    {
     "data": {
      "text/plain": [
       "6"
      ]
     },
     "execution_count": 11,
     "metadata": {},
     "output_type": "execute_result"
    }
   ],
   "source": [
    "len(r['data'])"
   ]
  },
  {
   "cell_type": "code",
   "execution_count": 8,
   "metadata": {},
   "outputs": [],
   "source": [
    "r = requests.get('https://competitive-coding-api.herokuapp.com/api/codechef/dhairya786').json()"
   ]
  },
  {
   "cell_type": "code",
   "execution_count": 9,
   "metadata": {},
   "outputs": [
    {
     "data": {
      "text/plain": [
       "{'status': 'Success',\n",
       " 'rating': 0,\n",
       " 'stars': None,\n",
       " 'highest_rating': 0,\n",
       " 'global_rank': 'NA',\n",
       " 'country_rank': 'NA',\n",
       " 'user_details': {'name': 'Dhairya Ahuja',\n",
       "  'username': '\\nUsername:dhairya786',\n",
       "  'country': 'India',\n",
       "  'state': 'Punjab',\n",
       "  'city': 'Patiala',\n",
       "  'student/professional': 'Student',\n",
       "  'institution': 'Thapar Institute of Engineering & Technology Patiala, Punjab'},\n",
       " 'contests': [{'name': 'Long Challenge',\n",
       "   'rating': 0,\n",
       "   'global_rank': 'NA',\n",
       "   'country_rank': 'NA'},\n",
       "  {'name': 'Cook-off', 'rating': 0, 'global_rank': 'NA', 'country_rank': 'NA'},\n",
       "  {'name': 'Lunch Time',\n",
       "   'rating': 0,\n",
       "   'global_rank': 'NA',\n",
       "   'country_rank': 'NA'}],\n",
       " 'contest_ratings': [],\n",
       " 'fully_solved': {'count': 0},\n",
       " 'partially_solved': {'count': 0}}"
      ]
     },
     "execution_count": 9,
     "metadata": {},
     "output_type": "execute_result"
    }
   ],
   "source": [
    "r\n"
   ]
  },
  {
   "cell_type": "code",
   "execution_count": null,
   "metadata": {},
   "outputs": [],
   "source": []
  }
 ],
 "metadata": {
  "kernelspec": {
   "display_name": "Python 3",
   "language": "python",
   "name": "python3"
  },
  "language_info": {
   "codemirror_mode": {
    "name": "ipython",
    "version": 3
   },
   "file_extension": ".py",
   "mimetype": "text/x-python",
   "name": "python",
   "nbconvert_exporter": "python",
   "pygments_lexer": "ipython3",
   "version": "3.7.6"
  }
 },
 "nbformat": 4,
 "nbformat_minor": 4
}
